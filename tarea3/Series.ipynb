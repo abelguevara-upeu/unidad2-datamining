{
 "cells": [
  {
   "cell_type": "markdown",
   "id": "a106c62c-cb94-4502-b1ae-9242cd0d3d84",
   "metadata": {},
   "source": [
    "Series de tiempo"
   ]
  }
 ],
 "metadata": {
  "kernelspec": {
   "display_name": "Python 3 (ipykernel)",
   "language": "python",
   "name": "python3"
  },
  "language_info": {
   "codemirror_mode": {
    "name": "ipython",
    "version": 3
   },
   "file_extension": ".py",
   "mimetype": "text/x-python",
   "name": "python",
   "nbconvert_exporter": "python",
   "pygments_lexer": "ipython3",
   "version": "3.12.7"
  }
 },
 "nbformat": 4,
 "nbformat_minor": 5
}
